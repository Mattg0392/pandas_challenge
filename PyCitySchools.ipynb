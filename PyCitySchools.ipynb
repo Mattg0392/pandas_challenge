{
 "cells": [
  {
   "cell_type": "markdown",
   "metadata": {},
   "source": [
    "### Note\n",
    "* Instructions have been included for each segment. You do not have to follow them exactly, but they are included to help you think through the steps."
   ]
  },
  {
   "cell_type": "code",
   "execution_count": 1,
   "metadata": {},
   "outputs": [
    {
     "data": {
      "text/html": [
       "<div>\n",
       "<style scoped>\n",
       "    .dataframe tbody tr th:only-of-type {\n",
       "        vertical-align: middle;\n",
       "    }\n",
       "\n",
       "    .dataframe tbody tr th {\n",
       "        vertical-align: top;\n",
       "    }\n",
       "\n",
       "    .dataframe thead th {\n",
       "        text-align: right;\n",
       "    }\n",
       "</style>\n",
       "<table border=\"1\" class=\"dataframe\">\n",
       "  <thead>\n",
       "    <tr style=\"text-align: right;\">\n",
       "      <th></th>\n",
       "      <th>Student ID</th>\n",
       "      <th>student_name</th>\n",
       "      <th>gender</th>\n",
       "      <th>grade</th>\n",
       "      <th>school_name</th>\n",
       "      <th>reading_score</th>\n",
       "      <th>math_score</th>\n",
       "      <th>School ID</th>\n",
       "      <th>type</th>\n",
       "      <th>size</th>\n",
       "      <th>budget</th>\n",
       "    </tr>\n",
       "  </thead>\n",
       "  <tbody>\n",
       "    <tr>\n",
       "      <th>0</th>\n",
       "      <td>0</td>\n",
       "      <td>Paul Bradley</td>\n",
       "      <td>M</td>\n",
       "      <td>9th</td>\n",
       "      <td>Huang High School</td>\n",
       "      <td>66</td>\n",
       "      <td>79</td>\n",
       "      <td>0</td>\n",
       "      <td>District</td>\n",
       "      <td>2917</td>\n",
       "      <td>1910635</td>\n",
       "    </tr>\n",
       "    <tr>\n",
       "      <th>1</th>\n",
       "      <td>1</td>\n",
       "      <td>Victor Smith</td>\n",
       "      <td>M</td>\n",
       "      <td>12th</td>\n",
       "      <td>Huang High School</td>\n",
       "      <td>94</td>\n",
       "      <td>61</td>\n",
       "      <td>0</td>\n",
       "      <td>District</td>\n",
       "      <td>2917</td>\n",
       "      <td>1910635</td>\n",
       "    </tr>\n",
       "    <tr>\n",
       "      <th>2</th>\n",
       "      <td>2</td>\n",
       "      <td>Kevin Rodriguez</td>\n",
       "      <td>M</td>\n",
       "      <td>12th</td>\n",
       "      <td>Huang High School</td>\n",
       "      <td>90</td>\n",
       "      <td>60</td>\n",
       "      <td>0</td>\n",
       "      <td>District</td>\n",
       "      <td>2917</td>\n",
       "      <td>1910635</td>\n",
       "    </tr>\n",
       "    <tr>\n",
       "      <th>3</th>\n",
       "      <td>3</td>\n",
       "      <td>Dr. Richard Scott</td>\n",
       "      <td>M</td>\n",
       "      <td>12th</td>\n",
       "      <td>Huang High School</td>\n",
       "      <td>67</td>\n",
       "      <td>58</td>\n",
       "      <td>0</td>\n",
       "      <td>District</td>\n",
       "      <td>2917</td>\n",
       "      <td>1910635</td>\n",
       "    </tr>\n",
       "    <tr>\n",
       "      <th>4</th>\n",
       "      <td>4</td>\n",
       "      <td>Bonnie Ray</td>\n",
       "      <td>F</td>\n",
       "      <td>9th</td>\n",
       "      <td>Huang High School</td>\n",
       "      <td>97</td>\n",
       "      <td>84</td>\n",
       "      <td>0</td>\n",
       "      <td>District</td>\n",
       "      <td>2917</td>\n",
       "      <td>1910635</td>\n",
       "    </tr>\n",
       "  </tbody>\n",
       "</table>\n",
       "</div>"
      ],
      "text/plain": [
       "   Student ID       student_name gender grade        school_name  \\\n",
       "0           0       Paul Bradley      M   9th  Huang High School   \n",
       "1           1       Victor Smith      M  12th  Huang High School   \n",
       "2           2    Kevin Rodriguez      M  12th  Huang High School   \n",
       "3           3  Dr. Richard Scott      M  12th  Huang High School   \n",
       "4           4         Bonnie Ray      F   9th  Huang High School   \n",
       "\n",
       "   reading_score  math_score  School ID      type  size   budget  \n",
       "0             66          79          0  District  2917  1910635  \n",
       "1             94          61          0  District  2917  1910635  \n",
       "2             90          60          0  District  2917  1910635  \n",
       "3             67          58          0  District  2917  1910635  \n",
       "4             97          84          0  District  2917  1910635  "
      ]
     },
     "execution_count": 1,
     "metadata": {},
     "output_type": "execute_result"
    }
   ],
   "source": [
    "#import setup\n",
    "import pandas as pd\n",
    "\n",
    "# Files to examine\n",
    "schooldataload = \"Resources/schools_complete.csv\"\n",
    "studentdataload = \"Resources/students_complete.csv\"\n",
    "\n",
    "# Data Frames\n",
    "schoolDF = pd.read_csv(schooldataload)\n",
    "studentDF = pd.read_csv(studentdataload)\n",
    "\n",
    "# Combine the data into a single dataset.  \n",
    "completeDataDF = pd.merge(studentDF, schoolDF, how=\"left\", on=[\"school_name\", \"school_name\"])\n",
    "completeDataDF.head()"
   ]
  },
  {
   "cell_type": "markdown",
   "metadata": {},
   "source": [
    "## District Summary\n",
    "\n",
    "* Calculate the total number of schools\n",
    "\n",
    "* Calculate the total number of students\n",
    "\n",
    "* Calculate the total budget\n",
    "\n",
    "* Calculate the average math score \n",
    "\n",
    "* Calculate the average reading score\n",
    "\n",
    "* Calculate the percentage of students with a passing math score (70 or greater)\n",
    "\n",
    "* Calculate the percentage of students with a passing reading score (70 or greater)\n",
    "\n",
    "* Calculate the percentage of students who passed math **and** reading (% Overall Passing)\n",
    "\n",
    "* Create a dataframe to hold the above results\n",
    "\n",
    "* Optional: give the displayed data cleaner formatting"
   ]
  },
  {
   "cell_type": "code",
   "execution_count": 2,
   "metadata": {},
   "outputs": [
    {
     "data": {
      "text/html": [
       "<style  type=\"text/css\" >\n",
       "</style><table id=\"T_499383bf_00a5_11ec_8962_34e12db3fe10\" ><thead>    <tr>        <th class=\"col_heading level0 col0\" >Total Schools</th>        <th class=\"col_heading level0 col1\" >Total Students</th>        <th class=\"col_heading level0 col2\" >Total Budget</th>        <th class=\"col_heading level0 col3\" >Math Score Average</th>        <th class=\"col_heading level0 col4\" >Reading Score Average</th>        <th class=\"col_heading level0 col5\" >Math Passing Percent</th>        <th class=\"col_heading level0 col6\" >Reading Passing Percent</th>        <th class=\"col_heading level0 col7\" >Overall Passing Percent</th>    </tr></thead><tbody>\n",
       "                <tr>\n",
       "                                <td id=\"T_499383bf_00a5_11ec_8962_34e12db3fe10row0_col0\" class=\"data row0 col0\" >15</td>\n",
       "                        <td id=\"T_499383bf_00a5_11ec_8962_34e12db3fe10row0_col1\" class=\"data row0 col1\" >39,170</td>\n",
       "                        <td id=\"T_499383bf_00a5_11ec_8962_34e12db3fe10row0_col2\" class=\"data row0 col2\" >$24,649,428.00</td>\n",
       "                        <td id=\"T_499383bf_00a5_11ec_8962_34e12db3fe10row0_col3\" class=\"data row0 col3\" >78.985</td>\n",
       "                        <td id=\"T_499383bf_00a5_11ec_8962_34e12db3fe10row0_col4\" class=\"data row0 col4\" >81.878</td>\n",
       "                        <td id=\"T_499383bf_00a5_11ec_8962_34e12db3fe10row0_col5\" class=\"data row0 col5\" >74.98%</td>\n",
       "                        <td id=\"T_499383bf_00a5_11ec_8962_34e12db3fe10row0_col6\" class=\"data row0 col6\" >85.81%</td>\n",
       "                        <td id=\"T_499383bf_00a5_11ec_8962_34e12db3fe10row0_col7\" class=\"data row0 col7\" >65.17%</td>\n",
       "            </tr>\n",
       "    </tbody></table>"
      ],
      "text/plain": [
       "<pandas.io.formats.style.Styler at 0x19948c14130>"
      ]
     },
     "execution_count": 2,
     "metadata": {},
     "output_type": "execute_result"
    }
   ],
   "source": [
    "#find summary values\n",
    "schoolTotal = len(completeDataDF[\"school_name\"].unique())\n",
    "studentTotal = len(completeDataDF)\n",
    "budgetTotal = sum(completeDataDF[\"budget\"].unique())\n",
    "averageMath = completeDataDF[\"math_score\"].mean()\n",
    "averageReading = completeDataDF[\"reading_score\"].mean()\n",
    "mathPassing = len(completeDataDF.loc[completeDataDF[\"math_score\"] > 69])/studentTotal\n",
    "readingPassing = len(completeDataDF.loc[completeDataDF[\"reading_score\"] > 69])/studentTotal\n",
    "overallPassing = len(completeDataDF.loc[(completeDataDF[\"math_score\"] > 69) & (completeDataDF[\"reading_score\"] > 69)])/studentTotal\n",
    "\n",
    "#create summary dataframe with headers\n",
    "summaryDF = pd.DataFrame({\"Total Schools\": [schoolTotal], \"Total Students\": [studentTotal], \"Total Budget\": [budgetTotal], \n",
    "                         \"Math Score Average\": [averageMath], \"Reading Score Average\": [averageReading], \n",
    "                         \"Math Passing Percent\": [mathPassing], \"Reading Passing Percent\": [readingPassing], \n",
    "                         \"Overall Passing Percent\": [overallPassing]})\n",
    "#format columns\n",
    "summaryDF[\"Total Students\"] = summaryDF[\"Total Students\"].map(\"{:,}\".format)\n",
    "summaryDF[\"Total Budget\"] = summaryDF[\"Total Budget\"].map(\"${:,.2f}\".format)\n",
    "summaryDF[\"Math Score Average\"] = summaryDF[\"Math Score Average\"].map(\"{:,.3f}\".format)\n",
    "summaryDF[\"Reading Score Average\"] = summaryDF[\"Reading Score Average\"].map(\"{:,.3f}\".format)\n",
    "summaryDF[\"Math Passing Percent\"] = summaryDF[\"Math Passing Percent\"].map(\"{:.2%}\".format)\n",
    "summaryDF[\"Reading Passing Percent\"] = summaryDF[\"Reading Passing Percent\"].map(\"{:.2%}\".format)\n",
    "summaryDF[\"Overall Passing Percent\"] = summaryDF[\"Overall Passing Percent\"].map(\"{:.2%}\".format)\n",
    "\n",
    "#display results\n",
    "summaryDF.style.hide_index()"
   ]
  },
  {
   "cell_type": "markdown",
   "metadata": {},
   "source": [
    "## School Summary"
   ]
  },
  {
   "cell_type": "markdown",
   "metadata": {},
   "source": [
    "* Create an overview table that summarizes key metrics about each school, including:\n",
    "  * School Name\n",
    "  * School Type\n",
    "  * Total Students\n",
    "  * Total School Budget\n",
    "  * Per Student Budget\n",
    "  * Average Math Score\n",
    "  * Average Reading Score\n",
    "  * % Passing Math\n",
    "  * % Passing Reading\n",
    "  * % Overall Passing (The percentage of students that passed math **and** reading.)\n",
    "  \n",
    "* Create a dataframe to hold the above results"
   ]
  },
  {
   "cell_type": "code",
   "execution_count": null,
   "metadata": {},
   "outputs": [],
   "source": [
    "#group by schools then calculate off schoolNameGB\n",
    "schoolNameGB = completeDataDF.groupby(\"school_name\")\n",
    "schoolName = schoolNameGB.count().index\n",
    "#unique type, budget; count students, mean math and reading scores\n",
    "schoolType = schoolNameGB[\"type\"].unique()\n",
    "totalStudents = schoolNameGB[\"student_name\"].count()\n",
    "totalSchoolBudget = schoolNameGB[\"budget\"].unique()\n",
    "budgetPerStudent = (schoolNameGB[\"budget\"].unique() / schoolNameGB[\"student_name\"].count())\n",
    "averageMathScore = schoolNameGB[\"math_score\"].mean()\n",
    "averageReadingScore = schoolNameGB[\"reading_score\"].mean()\n",
    "#create mathPass, readingPass, and overallPass groups to calculate passing numerators\n",
    "mathPass = completeDataDF.loc[completeDataDF[\"math_score\"] > 69, :]\n",
    "mathPassGB = mathPass.groupby(\"school_name\")\n",
    "mathPassing = (mathPassGB[\"student_name\"].count() / schoolNameGB[\"student_name\"].count())\n",
    "readingPass = completeDataDF.loc[completeDataDF[\"reading_score\"] > 69, :]\n",
    "readingPassGB = readingPass.groupby(\"school_name\")\n",
    "readingPassing = (readingPassGB[\"student_name\"].count() / schoolNameGB[\"student_name\"].count())\n",
    "overallPass = completeDataDF.loc[((completeDataDF[\"math_score\"] > 69) & (completeDataDF[\"reading_score\"] > 69)), :]\n",
    "overallPassGB = overallPass.groupby(\"school_name\")\n",
    "overallPassing = (overallPassGB[\"student_name\"].count() / schoolNameGB[\"student_name\"].count())\n",
    "\n",
    "#add to dataframe schoolGroupDF\n",
    "schoolGroupDF = pd.DataFrame({\"School Name\": schoolName, \"School Type\": schoolType.str[0], \"Total Students\": totalStudents, \n",
    "                             \"Total Budget\": totalSchoolBudget.str[0], \"Budget Per Student\": budgetPerStudent.str[0], \n",
    "                                \"Average Math Score\": averageMathScore, \"Average Reading Score\": averageReadingScore, \n",
    "                              \"Math Passing Percent\": mathPassing, \"Reading Passing Percent\": readingPassing, \n",
    "                              \"Overall Passing Percent\": overallPassing\n",
    "                             })\n",
    "\n",
    "#cleanup dataframe index\n",
    "schoolGroupDF = schoolGroupDF.reset_index(drop=True)\n",
    "\n",
    "#format dataframe\n",
    "schoolGroupDF[\"Total Students\"] = schoolGroupDF[\"Total Students\"].map(\"{:,}\".format)\n",
    "schoolGroupDF[\"Total Budget\"] = schoolGroupDF[\"Total Budget\"].map(\"${:,.2f}\".format)\n",
    "schoolGroupDF[\"Budget Per Student\"] = schoolGroupDF[\"Budget Per Student\"].map(\"${:,.2f}\".format)\n",
    "schoolGroupDF[\"Average Math Score\"] = schoolGroupDF[\"Average Math Score\"].map(\"{:,.3f}\".format)\n",
    "schoolGroupDF[\"Average Reading Score\"] = schoolGroupDF[\"Average Reading Score\"].map(\"{:,.3f}\".format)\n",
    "schoolGroupDF[\"Math Passing Percent\"] = schoolGroupDF[\"Math Passing Percent\"].map(\"{:.2%}\".format)\n",
    "schoolGroupDF[\"Reading Passing Percent\"] = schoolGroupDF[\"Reading Passing Percent\"].map(\"{:.2%}\".format)\n",
    "schoolGroupDF[\"Overall Passing Percent\"] = schoolGroupDF[\"Overall Passing Percent\"].map(\"{:.2%}\".format)\n",
    "\n",
    "schoolGroupDF.style.hide_index()"
   ]
  },
  {
   "cell_type": "markdown",
   "metadata": {},
   "source": [
    "## Top Performing Schools (By % Overall Passing)"
   ]
  },
  {
   "cell_type": "markdown",
   "metadata": {},
   "source": [
    "* Sort and display the top five performing schools by % overall passing."
   ]
  },
  {
   "cell_type": "code",
   "execution_count": null,
   "metadata": {
    "scrolled": true
   },
   "outputs": [],
   "source": []
  },
  {
   "cell_type": "markdown",
   "metadata": {},
   "source": [
    "## Bottom Performing Schools (By % Overall Passing)"
   ]
  },
  {
   "cell_type": "markdown",
   "metadata": {},
   "source": [
    "* Sort and display the five worst-performing schools by % overall passing."
   ]
  },
  {
   "cell_type": "code",
   "execution_count": null,
   "metadata": {},
   "outputs": [],
   "source": []
  },
  {
   "cell_type": "markdown",
   "metadata": {
    "collapsed": true
   },
   "source": [
    "## Math Scores by Grade"
   ]
  },
  {
   "cell_type": "markdown",
   "metadata": {},
   "source": [
    "* Create a table that lists the average Reading Score for students of each grade level (9th, 10th, 11th, 12th) at each school.\n",
    "\n",
    "  * Create a pandas series for each grade. Hint: use a conditional statement.\n",
    "  \n",
    "  * Group each series by school\n",
    "  \n",
    "  * Combine the series into a dataframe\n",
    "  \n",
    "  * Optional: give the displayed data cleaner formatting"
   ]
  },
  {
   "cell_type": "code",
   "execution_count": null,
   "metadata": {},
   "outputs": [],
   "source": []
  },
  {
   "cell_type": "markdown",
   "metadata": {},
   "source": [
    "## Reading Score by Grade "
   ]
  },
  {
   "cell_type": "markdown",
   "metadata": {},
   "source": [
    "* Perform the same operations as above for reading scores"
   ]
  },
  {
   "cell_type": "code",
   "execution_count": null,
   "metadata": {},
   "outputs": [],
   "source": []
  },
  {
   "cell_type": "markdown",
   "metadata": {},
   "source": [
    "## Scores by School Spending"
   ]
  },
  {
   "cell_type": "markdown",
   "metadata": {},
   "source": [
    "* Create a table that breaks down school performances based on average Spending Ranges (Per Student). Use 4 reasonable bins to group school spending. Include in the table each of the following:\n",
    "  * Average Math Score\n",
    "  * Average Reading Score\n",
    "  * % Passing Math\n",
    "  * % Passing Reading\n",
    "  * Overall Passing Rate (Average of the above two)"
   ]
  },
  {
   "cell_type": "code",
   "execution_count": null,
   "metadata": {},
   "outputs": [],
   "source": []
  },
  {
   "cell_type": "markdown",
   "metadata": {},
   "source": [
    "## Scores by School Size"
   ]
  },
  {
   "cell_type": "markdown",
   "metadata": {},
   "source": [
    "* Perform the same operations as above, based on school size."
   ]
  },
  {
   "cell_type": "code",
   "execution_count": null,
   "metadata": {
    "scrolled": true
   },
   "outputs": [],
   "source": []
  },
  {
   "cell_type": "markdown",
   "metadata": {},
   "source": [
    "## Scores by School Type"
   ]
  },
  {
   "cell_type": "markdown",
   "metadata": {},
   "source": [
    "* Perform the same operations as above, based on school type"
   ]
  },
  {
   "cell_type": "code",
   "execution_count": null,
   "metadata": {},
   "outputs": [],
   "source": []
  },
  {
   "cell_type": "code",
   "execution_count": null,
   "metadata": {},
   "outputs": [],
   "source": []
  }
 ],
 "metadata": {
  "anaconda-cloud": {},
  "kernel_info": {
   "name": "python3"
  },
  "kernelspec": {
   "display_name": "Python 3",
   "language": "python",
   "name": "python3"
  },
  "language_info": {
   "codemirror_mode": {
    "name": "ipython",
    "version": 3
   },
   "file_extension": ".py",
   "mimetype": "text/x-python",
   "name": "python",
   "nbconvert_exporter": "python",
   "pygments_lexer": "ipython3",
   "version": "3.8.5"
  },
  "latex_envs": {
   "LaTeX_envs_menu_present": true,
   "autoclose": false,
   "autocomplete": true,
   "bibliofile": "biblio.bib",
   "cite_by": "apalike",
   "current_citInitial": 1,
   "eqLabelWithNumbers": true,
   "eqNumInitial": 1,
   "hotkeys": {
    "equation": "Ctrl-E",
    "itemize": "Ctrl-I"
   },
   "labels_anchors": false,
   "latex_user_defs": false,
   "report_style_numbering": false,
   "user_envs_cfg": false
  },
  "nteract": {
   "version": "0.8.4"
  }
 },
 "nbformat": 4,
 "nbformat_minor": 1
}
